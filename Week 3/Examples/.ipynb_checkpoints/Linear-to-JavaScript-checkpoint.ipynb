{
 "cells": [
  {
   "cell_type": "code",
   "execution_count": 0,
   "metadata": {
    "colab": {},
    "colab_type": "code",
    "id": "zX4Kg8DUTKWO"
   },
   "outputs": [],
   "source": [
    "#@title Licensed under the Apache License, Version 2.0 (the \"License\");\n",
    "# you may not use this file except in compliance with the License.\n",
    "# You may obtain a copy of the License at\n",
    "#\n",
    "# https://www.apache.org/licenses/LICENSE-2.0\n",
    "#\n",
    "# Unless required by applicable law or agreed to in writing, software\n",
    "# distributed under the License is distributed on an \"AS IS\" BASIS,\n",
    "# WITHOUT WARRANTIES OR CONDITIONS OF ANY KIND, either express or implied.\n",
    "# See the License for the specific language governing permissions and\n",
    "# limitations under the License."
   ]
  },
  {
   "cell_type": "code",
   "execution_count": 1,
   "metadata": {
    "colab": {
     "base_uri": "https://localhost:8080/",
     "height": 992
    },
    "colab_type": "code",
    "id": "pLTlDFwU1Ux_",
    "outputId": "35a170f8-c16f-48b5-a68a-d456338467eb"
   },
   "outputs": [
    {
     "name": "stdout",
     "output_type": "stream",
     "text": [
      "Collecting tensorflowjs\n",
      "\u001b[?25l  Downloading https://files.pythonhosted.org/packages/ef/4c/79739ad8652e4f0372ddfa272d4fa3bfb0497460bc319e3758e907586540/tensorflowjs-2.3.0-py3-none-any.whl (61kB)\n",
      "\u001b[K     |████████████████████████████████| 71kB 1.0MB/s eta 0:00:011\n",
      "\u001b[?25hRequirement already satisfied: six>=1.12.0 in /Users/elena/opt/anaconda3/envs/dl_env/lib/python3.6/site-packages (from tensorflowjs) (1.12.0)\n",
      "Collecting tensorflow-cpu<3,>=2.1.0\n",
      "\u001b[?25l  Downloading https://files.pythonhosted.org/packages/d9/b9/5a61c4c6cc375d135e6f035cb41824a8484bbe928063930b7c2cf86787b0/tensorflow_cpu-2.3.0-cp36-cp36m-macosx_10_11_x86_64.whl (165.1MB)\n",
      "\u001b[K     |████████████████████████████████| 165.1MB 201kB/s  eta 0:00:01  |█▏                              | 6.0MB 2.7MB/s eta 0:01:00     |██████▋                         | 33.9MB 6.3MB/s eta 0:00:21     |████████████▉                   | 66.2MB 2.5MB/s eta 0:00:40     |█████████████▏                  | 67.8MB 2.5MB/s eta 0:00:40     |█████████████████████████▏      | 129.9MB 13.6MB/s eta 0:00:03\n",
      "\u001b[?25hCollecting tensorflow-hub==0.7.0\n",
      "\u001b[?25l  Downloading https://files.pythonhosted.org/packages/00/0e/a91780d07592b1abf9c91344ce459472cc19db3b67fdf3a61dca6ebb2f5c/tensorflow_hub-0.7.0-py2.py3-none-any.whl (89kB)\n",
      "\u001b[K     |████████████████████████████████| 92kB 1.2MB/s eta 0:00:01\n",
      "\u001b[?25hRequirement already satisfied: numpy<1.19.0,>=1.16.4 in /Users/elena/opt/anaconda3/envs/dl_env/lib/python3.6/site-packages (from tensorflowjs) (1.17.2)\n",
      "Requirement already satisfied: h5py>=2.8.0 in /Users/elena/opt/anaconda3/envs/dl_env/lib/python3.6/site-packages (from tensorflowjs) (2.9.0)\n",
      "Collecting PyInquirer==1.0.3\n",
      "  Downloading https://files.pythonhosted.org/packages/fb/4c/434b7c454010a284b49d6f1d446fe8dc5960415613d8c0225b9e2efb6724/PyInquirer-1.0.3.tar.gz\n",
      "Requirement already satisfied: gast==0.3.3 in /Users/elena/opt/anaconda3/envs/dl_env/lib/python3.6/site-packages (from tensorflow-cpu<3,>=2.1.0->tensorflowjs) (0.3.3)\n",
      "Requirement already satisfied: opt-einsum>=2.3.2 in /Users/elena/opt/anaconda3/envs/dl_env/lib/python3.6/site-packages (from tensorflow-cpu<3,>=2.1.0->tensorflowjs) (3.1.0)\n",
      "Requirement already satisfied: protobuf>=3.9.2 in /Users/elena/opt/anaconda3/envs/dl_env/lib/python3.6/site-packages (from tensorflow-cpu<3,>=2.1.0->tensorflowjs) (3.9.2)\n",
      "Requirement already satisfied: termcolor>=1.1.0 in /Users/elena/opt/anaconda3/envs/dl_env/lib/python3.6/site-packages (from tensorflow-cpu<3,>=2.1.0->tensorflowjs) (1.1.0)\n",
      "Collecting keras-preprocessing<1.2,>=1.1.1\n",
      "\u001b[?25l  Downloading https://files.pythonhosted.org/packages/79/4c/7c3275a01e12ef9368a892926ab932b33bb13d55794881e3573482b378a7/Keras_Preprocessing-1.1.2-py2.py3-none-any.whl (42kB)\n",
      "\u001b[K     |████████████████████████████████| 51kB 9.5MB/s  eta 0:00:01\n",
      "\u001b[?25hRequirement already satisfied: wheel>=0.26 in /Users/elena/opt/anaconda3/envs/dl_env/lib/python3.6/site-packages (from tensorflow-cpu<3,>=2.1.0->tensorflowjs) (0.33.6)\n",
      "Requirement already satisfied: absl-py>=0.7.0 in /Users/elena/opt/anaconda3/envs/dl_env/lib/python3.6/site-packages (from tensorflow-cpu<3,>=2.1.0->tensorflowjs) (0.8.0)\n",
      "Collecting tensorboard<3,>=2.3.0\n",
      "\u001b[?25l  Downloading https://files.pythonhosted.org/packages/e9/1b/6a420d7e6ba431cf3d51b2a5bfa06a958c4141e3189385963dc7f6fbffb6/tensorboard-2.3.0-py3-none-any.whl (6.8MB)\n",
      "\u001b[K     |████████████████████████████████| 6.8MB 12.0MB/s eta 0:00:01\n",
      "\u001b[?25hCollecting tensorflow-estimator<2.4.0,>=2.3.0\n",
      "\u001b[?25l  Downloading https://files.pythonhosted.org/packages/e9/ed/5853ec0ae380cba4588eab1524e18ece1583b65f7ae0e97321f5ff9dfd60/tensorflow_estimator-2.3.0-py2.py3-none-any.whl (459kB)\n",
      "\u001b[K     |████████████████████████████████| 460kB 15.3MB/s eta 0:00:01\n",
      "\u001b[?25hRequirement already satisfied: wrapt>=1.11.1 in /Users/elena/opt/anaconda3/envs/dl_env/lib/python3.6/site-packages (from tensorflow-cpu<3,>=2.1.0->tensorflowjs) (1.11.2)\n",
      "Requirement already satisfied: google-pasta>=0.1.8 in /Users/elena/opt/anaconda3/envs/dl_env/lib/python3.6/site-packages (from tensorflow-cpu<3,>=2.1.0->tensorflowjs) (0.1.8)\n",
      "Requirement already satisfied: scipy==1.4.1 in /Users/elena/opt/anaconda3/envs/dl_env/lib/python3.6/site-packages (from tensorflow-cpu<3,>=2.1.0->tensorflowjs) (1.4.1)\n",
      "Requirement already satisfied: grpcio>=1.8.6 in /Users/elena/opt/anaconda3/envs/dl_env/lib/python3.6/site-packages (from tensorflow-cpu<3,>=2.1.0->tensorflowjs) (1.24.3)\n",
      "Collecting astunparse==1.6.3\n",
      "  Downloading https://files.pythonhosted.org/packages/2b/03/13dde6512ad7b4557eb792fbcf0c653af6076b81e5941d36ec61f7ce6028/astunparse-1.6.3-py2.py3-none-any.whl\n",
      "Collecting prompt_toolkit==1.0.14\n",
      "\u001b[?25l  Downloading https://files.pythonhosted.org/packages/ee/3d/b25d35a9f0d381dd1c02d8e04b37c353caaaff4bc32150328eeebe4931f5/prompt_toolkit-1.0.14-py3-none-any.whl (248kB)\n",
      "\u001b[K     |████████████████████████████████| 256kB 8.2MB/s eta 0:00:01\n",
      "\u001b[?25hRequirement already satisfied: Pygments>=2.2.0 in /Users/elena/opt/anaconda3/envs/dl_env/lib/python3.6/site-packages (from PyInquirer==1.0.3->tensorflowjs) (2.4.2)\n",
      "Collecting regex>=2016.11.21\n",
      "\u001b[?25l  Downloading https://files.pythonhosted.org/packages/09/c3/ddaa87500f31ed86290e3d014c0302a51fde28d7139eda0b5f33733726db/regex-2020.7.14.tar.gz (690kB)\n",
      "\u001b[K     |████████████████████████████████| 696kB 13.5MB/s eta 0:00:01\n",
      "\u001b[?25hRequirement already satisfied: setuptools in /Users/elena/opt/anaconda3/envs/dl_env/lib/python3.6/site-packages (from protobuf>=3.9.2->tensorflow-cpu<3,>=2.1.0->tensorflowjs) (41.4.0)\n",
      "Requirement already satisfied: google-auth-oauthlib<0.5,>=0.4.1 in /Users/elena/opt/anaconda3/envs/dl_env/lib/python3.6/site-packages (from tensorboard<3,>=2.3.0->tensorflow-cpu<3,>=2.1.0->tensorflowjs) (0.4.1)\n",
      "Requirement already satisfied: requests<3,>=2.21.0 in /Users/elena/opt/anaconda3/envs/dl_env/lib/python3.6/site-packages (from tensorboard<3,>=2.3.0->tensorflow-cpu<3,>=2.1.0->tensorflowjs) (2.22.0)\n",
      "Requirement already satisfied: werkzeug>=0.11.15 in /Users/elena/opt/anaconda3/envs/dl_env/lib/python3.6/site-packages (from tensorboard<3,>=2.3.0->tensorflow-cpu<3,>=2.1.0->tensorflowjs) (0.16.0)\n",
      "Requirement already satisfied: google-auth<2,>=1.6.3 in /Users/elena/opt/anaconda3/envs/dl_env/lib/python3.6/site-packages (from tensorboard<3,>=2.3.0->tensorflow-cpu<3,>=2.1.0->tensorflowjs) (1.7.0)\n",
      "Collecting tensorboard-plugin-wit>=1.6.0\n",
      "\u001b[?25l  Downloading https://files.pythonhosted.org/packages/b6/85/5c5ac0a8c5efdfab916e9c6bc18963f6a6996a8a1e19ec4ad8c9ac9c623c/tensorboard_plugin_wit-1.7.0-py3-none-any.whl (779kB)\n",
      "\u001b[K     |████████████████████████████████| 788kB 9.3MB/s eta 0:00:01\n",
      "\u001b[?25hRequirement already satisfied: markdown>=2.6.8 in /Users/elena/opt/anaconda3/envs/dl_env/lib/python3.6/site-packages (from tensorboard<3,>=2.3.0->tensorflow-cpu<3,>=2.1.0->tensorflowjs) (3.1.1)\n",
      "Requirement already satisfied: wcwidth in /Users/elena/opt/anaconda3/envs/dl_env/lib/python3.6/site-packages (from prompt_toolkit==1.0.14->PyInquirer==1.0.3->tensorflowjs) (0.1.7)\n",
      "Requirement already satisfied: requests-oauthlib>=0.7.0 in /Users/elena/opt/anaconda3/envs/dl_env/lib/python3.6/site-packages (from google-auth-oauthlib<0.5,>=0.4.1->tensorboard<3,>=2.3.0->tensorflow-cpu<3,>=2.1.0->tensorflowjs) (1.3.0)\n",
      "Requirement already satisfied: urllib3!=1.25.0,!=1.25.1,<1.26,>=1.21.1 in /Users/elena/opt/anaconda3/envs/dl_env/lib/python3.6/site-packages (from requests<3,>=2.21.0->tensorboard<3,>=2.3.0->tensorflow-cpu<3,>=2.1.0->tensorflowjs) (1.24.2)\n",
      "Requirement already satisfied: certifi>=2017.4.17 in /Users/elena/opt/anaconda3/envs/dl_env/lib/python3.6/site-packages (from requests<3,>=2.21.0->tensorboard<3,>=2.3.0->tensorflow-cpu<3,>=2.1.0->tensorflowjs) (2020.4.5.1)\n",
      "Requirement already satisfied: chardet<3.1.0,>=3.0.2 in /Users/elena/opt/anaconda3/envs/dl_env/lib/python3.6/site-packages (from requests<3,>=2.21.0->tensorboard<3,>=2.3.0->tensorflow-cpu<3,>=2.1.0->tensorflowjs) (3.0.4)\n",
      "Requirement already satisfied: idna<2.9,>=2.5 in /Users/elena/opt/anaconda3/envs/dl_env/lib/python3.6/site-packages (from requests<3,>=2.21.0->tensorboard<3,>=2.3.0->tensorflow-cpu<3,>=2.1.0->tensorflowjs) (2.8)\n",
      "Requirement already satisfied: rsa<4.1,>=3.1.4 in /Users/elena/opt/anaconda3/envs/dl_env/lib/python3.6/site-packages (from google-auth<2,>=1.6.3->tensorboard<3,>=2.3.0->tensorflow-cpu<3,>=2.1.0->tensorflowjs) (4.0)\n",
      "Requirement already satisfied: cachetools<3.2,>=2.0.0 in /Users/elena/opt/anaconda3/envs/dl_env/lib/python3.6/site-packages (from google-auth<2,>=1.6.3->tensorboard<3,>=2.3.0->tensorflow-cpu<3,>=2.1.0->tensorflowjs) (3.1.1)\n",
      "Requirement already satisfied: pyasn1-modules>=0.2.1 in /Users/elena/opt/anaconda3/envs/dl_env/lib/python3.6/site-packages (from google-auth<2,>=1.6.3->tensorboard<3,>=2.3.0->tensorflow-cpu<3,>=2.1.0->tensorflowjs) (0.2.7)\n",
      "Requirement already satisfied: oauthlib>=3.0.0 in /Users/elena/opt/anaconda3/envs/dl_env/lib/python3.6/site-packages (from requests-oauthlib>=0.7.0->google-auth-oauthlib<0.5,>=0.4.1->tensorboard<3,>=2.3.0->tensorflow-cpu<3,>=2.1.0->tensorflowjs) (3.1.0)\n",
      "Requirement already satisfied: pyasn1>=0.1.3 in /Users/elena/opt/anaconda3/envs/dl_env/lib/python3.6/site-packages (from rsa<4.1,>=3.1.4->google-auth<2,>=1.6.3->tensorboard<3,>=2.3.0->tensorflow-cpu<3,>=2.1.0->tensorflowjs) (0.4.7)\n",
      "Building wheels for collected packages: PyInquirer, regex\n"
     ]
    },
    {
     "name": "stdout",
     "output_type": "stream",
     "text": [
      "  Building wheel for PyInquirer (setup.py) ... \u001b[?25ldone\n",
      "\u001b[?25h  Created wheel for PyInquirer: filename=PyInquirer-1.0.3-cp36-none-any.whl size=32853 sha256=d8cb85f4769051aae9ffde6597b5d0e4db508b3a27bb73a030045900a03b7f8c\n",
      "  Stored in directory: /Users/elena/Library/Caches/pip/wheels/52/6c/b1/3e4b0e8daf42a92883c7641c0ea8ffb62e0490ebed2faa55ad\n",
      "  Building wheel for regex (setup.py) ... \u001b[?25ldone\n",
      "\u001b[?25h  Created wheel for regex: filename=regex-2020.7.14-cp36-cp36m-macosx_10_7_x86_64.whl size=289757 sha256=528cf2f1f6b3554f7ea71a4d13b659bef192b447d78034968cd050583f46b10b\n",
      "  Stored in directory: /Users/elena/Library/Caches/pip/wheels/53/55/dc/e17fa4568958f4c53be34b65e474a1327b64641f65df379ec3\n",
      "Successfully built PyInquirer regex\n",
      "\u001b[31mERROR: tensorflow 2.0.0 has requirement gast==0.2.2, but you'll have gast 0.3.3 which is incompatible.\u001b[0m\n",
      "\u001b[31mERROR: tensorflow 2.0.0 has requirement tensorboard<2.1.0,>=2.0.0, but you'll have tensorboard 2.3.0 which is incompatible.\u001b[0m\n",
      "\u001b[31mERROR: tensorflow 2.0.0 has requirement tensorflow-estimator<2.1.0,>=2.0.0, but you'll have tensorflow-estimator 2.3.0 which is incompatible.\u001b[0m\n",
      "\u001b[31mERROR: jupyter-console 6.0.0 has requirement prompt_toolkit<2.1.0,>=2.0.0, but you'll have prompt-toolkit 1.0.14 which is incompatible.\u001b[0m\n",
      "\u001b[31mERROR: ipython 7.8.0 has requirement prompt-toolkit<2.1.0,>=2.0.0, but you'll have prompt-toolkit 1.0.14 which is incompatible.\u001b[0m\n",
      "\u001b[31mERROR: tensorflow-cpu 2.3.0 has requirement h5py<2.11.0,>=2.10.0, but you'll have h5py 2.9.0 which is incompatible.\u001b[0m\n",
      "Installing collected packages: keras-preprocessing, tensorboard-plugin-wit, tensorboard, tensorflow-estimator, astunparse, tensorflow-cpu, tensorflow-hub, prompt-toolkit, regex, PyInquirer, tensorflowjs\n",
      "  Found existing installation: Keras-Preprocessing 1.1.0\n",
      "    Uninstalling Keras-Preprocessing-1.1.0:\n",
      "      Successfully uninstalled Keras-Preprocessing-1.1.0\n",
      "  Found existing installation: tensorboard 2.0.1\n",
      "    Uninstalling tensorboard-2.0.1:\n",
      "      Successfully uninstalled tensorboard-2.0.1\n",
      "  Found existing installation: tensorflow-estimator 2.0.1\n",
      "    Uninstalling tensorflow-estimator-2.0.1:\n",
      "      Successfully uninstalled tensorflow-estimator-2.0.1\n",
      "  Found existing installation: prompt-toolkit 2.0.10\n",
      "    Uninstalling prompt-toolkit-2.0.10:\n",
      "      Successfully uninstalled prompt-toolkit-2.0.10\n",
      "Successfully installed PyInquirer-1.0.3 astunparse-1.6.3 keras-preprocessing-1.1.2 prompt-toolkit-1.0.14 regex-2020.7.14 tensorboard-2.3.0 tensorboard-plugin-wit-1.7.0 tensorflow-cpu-2.3.0 tensorflow-estimator-2.3.0 tensorflow-hub-0.7.0 tensorflowjs-2.3.0\n"
     ]
    }
   ],
   "source": [
    "!pip install tensorflowjs"
   ]
  },
  {
   "cell_type": "code",
   "execution_count": null,
   "metadata": {
    "colab": {
     "base_uri": "https://localhost:8080/",
     "height": 18235
    },
    "colab_type": "code",
    "id": "vNHv1d2K0Wxg",
    "outputId": "109c8bc7-6d51-4f0a-d3a6-f2943221ff49"
   },
   "outputs": [],
   "source": [
    "import numpy as np\n",
    "import tensorflow as tf\n",
    "\n",
    "print('\\u2022 Using TensorFlow Version:', tf.__version__)"
   ]
  },
  {
   "cell_type": "code",
   "execution_count": null,
   "metadata": {},
   "outputs": [],
   "source": [
    "model = tf.keras.models.Sequential([\n",
    "        tf.keras.layers.Dense(units=1, input_shape=[1])  \n",
    "])\n",
    "\n",
    "model.compile(optimizer='sgd', loss='mean_squared_error')\n",
    "\n",
    "xs = np.array([-1.0,  0.0, 1.0, 2.0, 3.0, 4.0], dtype=float)\n",
    "ys = np.array([-3.0, -1.0, 1.0, 3.0, 5.0, 7.0], dtype=float)\n",
    "\n",
    "model.fit(xs, ys, epochs=500)"
   ]
  },
  {
   "cell_type": "code",
   "execution_count": null,
   "metadata": {
    "colab": {
     "base_uri": "https://localhost:8080/",
     "height": 35
    },
    "colab_type": "code",
    "id": "AxSZ4DzJGEKy",
    "outputId": "00023ac5-58cb-4e09-9ac0-9ae8ae59f846"
   },
   "outputs": [],
   "source": [
    "print(model.predict([10.0]))"
   ]
  },
  {
   "cell_type": "code",
   "execution_count": null,
   "metadata": {},
   "outputs": [],
   "source": [
    "import time\n",
    "saved_model_path = \"./{}.h5\".format(int(time.time()))\n",
    "\n",
    "model.save(saved_model_path)"
   ]
  },
  {
   "cell_type": "code",
   "execution_count": null,
   "metadata": {},
   "outputs": [],
   "source": [
    "!tensorflowjs_converter --input_format=keras {saved_model_path} ./"
   ]
  }
 ],
 "metadata": {
  "accelerator": "GPU",
  "colab": {
   "collapsed_sections": [],
   "name": "Linear-to-JavaScript.ipynb",
   "provenance": [],
   "toc_visible": true,
   "version": "0.3.2"
  },
  "kernelspec": {
   "display_name": "Python 3",
   "language": "python",
   "name": "python3"
  },
  "language_info": {
   "codemirror_mode": {
    "name": "ipython",
    "version": 3
   },
   "file_extension": ".py",
   "mimetype": "text/x-python",
   "name": "python",
   "nbconvert_exporter": "python",
   "pygments_lexer": "ipython3",
   "version": "3.6.9"
  }
 },
 "nbformat": 4,
 "nbformat_minor": 1
}
